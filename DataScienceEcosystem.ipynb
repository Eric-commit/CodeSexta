{
 "cells": [
  {
   "cell_type": "markdown",
   "id": "f4385a2e-164a-4428-ae73-412bdd614004",
   "metadata": {},
   "source": [
    "# Data Science Tools and Ecosystem"
   ]
  },
  {
   "cell_type": "markdown",
   "id": "431d9911-18c0-4c69-ba49-611a49d135a9",
   "metadata": {},
   "source": [
    "Neste notebook, as Ferramentas e Ecossistema de Ciência de Dados são resumidos."
   ]
  },
  {
   "cell_type": "markdown",
   "id": "da21db44-30e8-40a0-ac60-8a48393001b5",
   "metadata": {},
   "source": [
    "**Objetivo:**\n",
    "* Languages\n",
    "* Libraries\n",
    "* Tools for Data Science "
   ]
  },
  {
   "cell_type": "markdown",
   "id": "ad794d5a-9e7b-49f7-b611-efa1f738088c",
   "metadata": {},
   "source": [
    "Algumas das linguagens populares que os Cientistas de Dados usam são:\n",
    "Nº | Language |\n",
    "---|----------|\n",
    "1  | Python   | \n",
    "2  | R        | \n",
    "3  | SQL      |"
   ]
  },
  {
   "cell_type": "markdown",
   "id": "ee0acb29-af49-4ee7-a992-47e9fc9b0a47",
   "metadata": {},
   "source": [
    "Algumas das bibliotecas comumente usadas por Cientistas de Dados incluem:\n",
    "Nº | Library |\n",
    "---|----------|\n",
    "1  | Pandas   | \n",
    "2  | scikit-learning |        \n",
    "3  | Matplotlib     |"
   ]
  },
  {
   "cell_type": "markdown",
   "id": "1c04407c-84e6-451a-8a43-e33cc36468a8",
   "metadata": {},
   "source": [
    "Ferramentas de Ciência de Dados:\n",
    "Nº | Tools for Data Science |\n",
    "---|------------------------|\n",
    "1  | Jupyter Notebook       | \n",
    "2  | Apache Spark           |        \n",
    "3  | Rstudio                |"
   ]
  },
  {
   "cell_type": "markdown",
   "id": "f36b3e3c-deff-4573-a927-2c46a4492e7f",
   "metadata": {},
   "source": [
    "### Abaixo estão alguns exemplos de avaliação de expressões aritméticas em Python"
   ]
  },
  {
   "cell_type": "code",
   "execution_count": 2,
   "id": "90bcc27d-4e49-4b0c-8d7c-135ae2baa322",
   "metadata": {},
   "outputs": [
    {
     "data": {
      "text/plain": [
       "17"
      ]
     },
     "execution_count": 2,
     "metadata": {},
     "output_type": "execute_result"
    }
   ],
   "source": [
    "#Esta é uma expressão aritmética simples para multiplicar e depois adicionar inteiros\n",
    "(3*4)+5"
   ]
  },
  {
   "cell_type": "code",
   "execution_count": 6,
   "id": "33233314-c301-4ea3-ac16-0747f326dabf",
   "metadata": {},
   "outputs": [
    {
     "data": {
      "text/plain": [
       "3.3333333333333335"
      ]
     },
     "execution_count": 6,
     "metadata": {},
     "output_type": "execute_result"
    }
   ],
   "source": [
    "#Isso converterá 200 minutos em horas dividindo por 60\n",
    "200/60"
   ]
  },
  {
   "cell_type": "markdown",
   "id": "050fc89e-7a69-4fdf-b50e-cf352821e524",
   "metadata": {},
   "source": [
    "## Autor: <br>\n",
    "Eric"
   ]
  },
  {
   "cell_type": "code",
   "execution_count": null,
   "id": "84c97363-152b-4af3-ace2-ceba2331b84d",
   "metadata": {},
   "outputs": [],
   "source": []
  }
 ],
 "metadata": {
  "kernelspec": {
   "display_name": "Python 3 (ipykernel)",
   "language": "python",
   "name": "python3"
  },
  "language_info": {
   "codemirror_mode": {
    "name": "ipython",
    "version": 3
   },
   "file_extension": ".py",
   "mimetype": "text/x-python",
   "name": "python",
   "nbconvert_exporter": "python",
   "pygments_lexer": "ipython3",
   "version": "3.12.8"
  }
 },
 "nbformat": 4,
 "nbformat_minor": 5
}
